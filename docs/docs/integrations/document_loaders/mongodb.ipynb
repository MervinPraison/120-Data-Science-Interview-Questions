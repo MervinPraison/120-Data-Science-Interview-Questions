{
  "cells": [
    {
      "cell_type": "markdown",
      "metadata": {
        "id": "vm8vn9t8DvC_"
      },
      "source": [
        "# MongoDB"
      ]
    },
    {
      "cell_type": "markdown",
      "metadata": {
        "id": "K5maz_qK-4HT"
      },
      "source": [
        "[MongoDB](https://www.mongodb.com/) is a NoSQL , document-oriented database that supports JSON-like documents with a dynamic schema."
      ]
    },
    {
      "cell_type": "markdown",
      "metadata": {
        "id": "5WjXERXzFEhg"
      },
      "source": [
        "## Overview"
      ]
    },
    {
      "cell_type": "markdown",
      "metadata": {
        "id": "juAmbgoWD17u"
      },
      "source": [
        "The MongoDB Document Loader returns a list of Langchain Documents from a MongoDB database.\n",
        "\n",
        "The Loader requires the following parameters:\n",
        "\n",
        "*   MongoDB connection string\n",
        "*   MongoDB database name\n",
        "*   MongoDB collection name\n",
        "*   (Optional) Content Filter dictionary\n",
        "*   (Optional) List of field names to include in the output\n",
        "\n",
        "The output takes the following format:\n",
        "\n",
        "- pageContent= Mongo Document\n",
        "- metadata=\\{'database': '[database_name]', 'collection': '[collection_name]'\\}"
      ]
    },
    {
      "cell_type": "markdown",
      "metadata": {
        "id": "0MJi6ipS-4HU"
      },
      "source": [
        "## Load the Document Loader"
      ]
    },
    {
      "cell_type": "code",
      "execution_count": 1,
      "metadata": {
        "id": "FPDTXjGF-4HU"
      },
      "outputs": [],
      "source": [
        "# add this import for running in jupyter notebook\n",
        "import nest_asyncio\n",
        "\n",
        "nest_asyncio.apply()"
      ]
    },
    {
      "cell_type": "code",
      "execution_count": 2,
      "metadata": {
        "id": "RRl1fXVR-4HV",
        "outputId": "3a5637c7-be1f-4d70-e72d-c1559ae54501",
        "colab": {
          "base_uri": "https://localhost:8080/",
          "height": 315
        }
      },
      "outputs": [
        {
          "output_type": "error",
          "ename": "ModuleNotFoundError",
          "evalue": "No module named 'langchain_community'",
          "traceback": [
            "\u001b[0;31m---------------------------------------------------------------------------\u001b[0m",
            "\u001b[0;31mModuleNotFoundError\u001b[0m                       Traceback (most recent call last)",
            "\u001b[0;32m/tmp/ipython-input-2-1249876600.py\u001b[0m in \u001b[0;36m<cell line: 0>\u001b[0;34m()\u001b[0m\n\u001b[0;32m----> 1\u001b[0;31m \u001b[0;32mfrom\u001b[0m \u001b[0mlangchain_community\u001b[0m\u001b[0;34m.\u001b[0m\u001b[0mdocument_loaders\u001b[0m\u001b[0;34m.\u001b[0m\u001b[0mmongodb\u001b[0m \u001b[0;32mimport\u001b[0m \u001b[0mMongodbLoader\u001b[0m\u001b[0;34m\u001b[0m\u001b[0;34m\u001b[0m\u001b[0m\n\u001b[0m",
            "\u001b[0;31mModuleNotFoundError\u001b[0m: No module named 'langchain_community'",
            "",
            "\u001b[0;31m---------------------------------------------------------------------------\u001b[0;32m\nNOTE: If your import is failing due to a missing package, you can\nmanually install dependencies using either !pip or !apt.\n\nTo view examples of installing some common dependencies, click the\n\"Open Examples\" button below.\n\u001b[0;31m---------------------------------------------------------------------------\u001b[0m\n"
          ],
          "errorDetails": {
            "actions": [
              {
                "action": "open_url",
                "actionText": "Open Examples",
                "url": "/notebooks/snippets/importing_libraries.ipynb"
              }
            ]
          }
        }
      ],
      "source": [
        "!pip install langchain-community\n",
        "from langchain_community.document_loaders.mongodb import MongodbLoader"
      ]
    },
    {
      "cell_type": "code",
      "execution_count": null,
      "metadata": {
        "id": "CGFJ6NC8-4HV"
      },
      "outputs": [],
      "source": [
        "loader = MongodbLoader(\n",
        "    connection_string=\"mongodb://localhost:27017/\",\n",
        "    db_name=\"sample_restaurants\",\n",
        "    collection_name=\"restaurants\",\n",
        "    filter_criteria={\"borough\": \"Bronx\", \"cuisine\": \"Bakery\"},\n",
        "    field_names=[\"name\", \"address\"],\n",
        ")"
      ]
    },
    {
      "cell_type": "code",
      "execution_count": null,
      "metadata": {
        "id": "oJFX0RxD-4HV"
      },
      "outputs": [],
      "source": [
        "docs = loader.load()\n",
        "\n",
        "len(docs)"
      ]
    },
    {
      "cell_type": "code",
      "execution_count": null,
      "metadata": {
        "id": "Q0ouqCnm-4HV"
      },
      "outputs": [],
      "source": [
        "docs[0]"
      ]
    }
  ],
  "metadata": {
    "colab": {
      "collapsed_sections": [
        "5WjXERXzFEhg"
      ],
      "provenance": []
    },
    "kernelspec": {
      "display_name": "Python 3 (ipykernel)",
      "language": "python",
      "name": "python3"
    },
    "language_info": {
      "codemirror_mode": {
        "name": "ipython",
        "version": 3
      },
      "file_extension": ".py",
      "mimetype": "text/x-python",
      "name": "python",
      "nbconvert_exporter": "python",
      "pygments_lexer": "ipython3",
      "version": "3.9.18"
    }
  },
  "nbformat": 4,
  "nbformat_minor": 0
}